{
 "cells": [
  {
   "cell_type": "code",
   "execution_count": 86,
   "id": "c709372b",
   "metadata": {},
   "outputs": [],
   "source": [
    "#далее импортируем модуль в коде нашей программы\n",
    "import json\n",
    "import psycopg2\n",
    "\n",
    "#затем создаем подключение к нашей БД, для этого используем метод connect\n",
    "\n",
    "con = psycopg2.connect(\n",
    "\n",
    "  #database=\"Vitrina_prodaj_magazini_2_5\", \n",
    "  database=\"vacancy\",  \n",
    "  user=\"admin\", \n",
    "  password=\"password\", \n",
    "  host=\"146.120.224.155\", \n",
    "  port=\"10121\"\n",
    ") \n",
    "\n",
    "database1 = \"vacancy\"\n",
    "\n",
    "#далее производим подключение к БД\n",
    "cur = con.cursor() \n",
    "\n",
    "#делаем запрос к БД и выводим наименование всех БД, таблиц, колонок, их типов данных\n",
    "\n",
    "cur.execute(\"SELECT table_name, column_name, data_type FROM information_schema.columns\")\n",
    "\n",
    "#запишем в массив результат поиска по числу записей\n",
    "  \n",
    "rows = cur.fetchall()\n",
    "\n",
    "#сортируем по алфавиту список с наименованиями БД\n",
    "\n",
    "rows.sort()\n",
    "\n",
    "slovar = {}\n",
    "\n",
    "# Определенные символы\n",
    "word = 'core'\n",
    "\n",
    "with open('config.json', 'w') as f:\n",
    "# Цикл for для перебора всех элементов списка\n",
    " for row in rows:\n",
    "    # Проверка, есть ли таблица в core слое\n",
    "  if word in row[0]: \n",
    "    \n",
    "    slovar = {database1: {\"table\": row[0], \"column\": row[1], \"type\": row[2]}} \n",
    "       \n",
    "    slovar = json.dump(slovar, f, indent=4)\n",
    "        "
   ]
  }
 ],
 "metadata": {
  "kernelspec": {
   "display_name": "Python 3 (ipykernel)",
   "language": "python",
   "name": "python3"
  },
  "language_info": {
   "codemirror_mode": {
    "name": "ipython",
    "version": 3
   },
   "file_extension": ".py",
   "mimetype": "text/x-python",
   "name": "python",
   "nbconvert_exporter": "python",
   "pygments_lexer": "ipython3",
   "version": "3.10.9"
  }
 },
 "nbformat": 4,
 "nbformat_minor": 5
}
